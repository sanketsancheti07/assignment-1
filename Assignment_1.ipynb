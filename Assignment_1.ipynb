{
 "cells": [
  {
   "cell_type": "markdown",
   "id": "40752762-b5ea-4570-b77e-f9daad548ed5",
   "metadata": {},
   "source": [
    "assignment no. 1\n"
   ]
  },
  {
   "cell_type": "code",
   "execution_count": null,
   "id": "0cdbfe27-56b8-4bed-a82e-19d59b403902",
   "metadata": {},
   "outputs": [],
   "source": [
    "who developed python programming language ?\n",
    "= Guido Van Rossoum"
   ]
  },
  {
   "cell_type": "raw",
   "id": "0906f58e-b7f5-4f4a-80db-13301ac8a623",
   "metadata": {},
   "source": [
    "Which type of programming does python support ?\n",
    "= object oriented, structured and functional programming."
   ]
  },
  {
   "cell_type": "raw",
   "id": "36ec31c8-981c-42ec-bba0-512c5f8762d5",
   "metadata": {},
   "source": [
    "Is python Case sensitive when dealing with identifiers ?\n",
    "= yes."
   ]
  },
  {
   "cell_type": "raw",
   "id": "cbe80bbd-e455-45af-baf5-280ddcb45600",
   "metadata": {},
   "source": [
    "What is the correct extention of the python file ?\n",
    "= .py"
   ]
  },
  {
   "cell_type": "raw",
   "id": "bcc23d00-e14d-47a7-8685-94c0313dbf31",
   "metadata": {},
   "source": [
    "Is python code compiled or interpreted ?\n",
    "= python is a compiled and interpreted language"
   ]
  },
  {
   "cell_type": "raw",
   "id": "f1e1e286-d9ab-4a32-bb9e-e80579b75ff1",
   "metadata": {},
   "source": [
    "name a few blocks of code used to define in python language ?\n",
    "= Indentation"
   ]
  },
  {
   "cell_type": "raw",
   "id": "0261eb02-bf32-4c12-b660-601fe2f97922",
   "metadata": {},
   "source": [
    "State a characher used to give single line comment in python ?\n",
    "= #"
   ]
  },
  {
   "cell_type": "raw",
   "id": "9713d50d-1475-4e00-82fd-2bfdd0053203",
   "metadata": {},
   "source": [
    "Mention functions which can help us to find the version of python that we are currently working on ?\n",
    "= sys.version "
   ]
  },
  {
   "cell_type": "raw",
   "id": "ab1d3f50-f465-4ac4-b301-7f1081d881ab",
   "metadata": {},
   "source": [
    "python supports the creation of anynymous functions at runtime, using a construct called\n",
    "= lambda"
   ]
  },
  {
   "cell_type": "raw",
   "id": "c32fa35c-6d86-4c21-9cfd-b7ec076ffa00",
   "metadata": {},
   "source": [
    "what does pip stand for ?\n",
    "= preferred installation program"
   ]
  },
  {
   "cell_type": "raw",
   "id": "bfaef996-392f-4a3a-b293-d2845b0f509c",
   "metadata": {},
   "source": [
    "mention few built-in functions in python ?\n",
    "= zip(), list(), input(), dict(), print(), char(), tuple(), set()"
   ]
  },
  {
   "cell_type": "raw",
   "id": "f3980085-a8fd-41bb-b8c5-6ebb2f4447b9",
   "metadata": {},
   "source": [
    "what is the maximum possible length of an identifier in python ?\n",
    "= 79 characters"
   ]
  },
  {
   "cell_type": "raw",
   "id": "36d68f92-ff70-4f35-9d84-1760821e8160",
   "metadata": {},
   "source": [
    "what are the benefits of using python ?\n",
    "= open source language, user freindly, less code as compare to other languages, productivity, easy to understand"
   ]
  },
  {
   "cell_type": "raw",
   "id": "6c55e489-6226-4392-acd2-8079743b5d43",
   "metadata": {},
   "source": [
    "how is memory managed in python ?\n",
    "= python has private heap that stores programs objects and data structures.Python memory manager takes care of the bulk of the memory management work and allows us to concentrate on our code. \n"
   ]
  },
  {
   "cell_type": "raw",
   "id": "aaf5b550-505b-46e3-84f2-c76bc28f02fb",
   "metadata": {},
   "source": [
    "how to install python on windows and set path variables ?\n",
    "= to install first we search python idle download on browser. then click on the python.org link after open the link click on download then install it. now for setting the path variable follow are the steps to set  control panel--system and security--environmental variables--path--edit."
   ]
  },
  {
   "cell_type": "raw",
   "id": "d5359ba5-4b7f-4cf7-b1c8-f220c8860f71",
   "metadata": {},
   "source": [
    "Is indentation requuired in python ?\n",
    "= Yes."
   ]
  }
 ],
 "metadata": {
  "kernelspec": {
   "display_name": "Python 3 (ipykernel)",
   "language": "python",
   "name": "python3"
  },
  "language_info": {
   "codemirror_mode": {
    "name": "ipython",
    "version": 3
   },
   "file_extension": ".py",
   "mimetype": "text/x-python",
   "name": "python",
   "nbconvert_exporter": "python",
   "pygments_lexer": "ipython3",
   "version": "3.10.8"
  }
 },
 "nbformat": 4,
 "nbformat_minor": 5
}
